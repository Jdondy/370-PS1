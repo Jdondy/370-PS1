{
 "cells": [
  {
   "cell_type": "markdown",
   "id": "2ed04d15-08d9-4b74-bc89-c5eb2590deb4",
   "metadata": {},
   "source": [
    "# Problem Set 1"
   ]
  },
  {
   "cell_type": "code",
   "execution_count": 114,
   "id": "64b41832-2ef2-4ed1-aa35-0b557c40611b",
   "metadata": {},
   "outputs": [],
   "source": [
    "import numpy as np"
   ]
  },
  {
   "cell_type": "code",
   "execution_count": 115,
   "id": "c17083ba-c2bb-4a6e-8d64-85998bf1e4f9",
   "metadata": {},
   "outputs": [],
   "source": [
    "import pandas as pd"
   ]
  },
  {
   "cell_type": "markdown",
   "id": "4864d810-1475-4989-aeab-e3f93cbe06dc",
   "metadata": {},
   "source": [
    "## 1. Lists"
   ]
  },
  {
   "cell_type": "markdown",
   "id": "214e4cff-58d1-4cae-9b26-00cdc6a0d566",
   "metadata": {},
   "source": [
    "####  1."
   ]
  },
  {
   "cell_type": "code",
   "execution_count": 116,
   "id": "73c7473c-32b5-4d81-be0c-15a6263f3f9b",
   "metadata": {},
   "outputs": [],
   "source": [
    "movies = [\"Interstellar\", \"Good Will Hunting\", \"The Accountant\", \n",
    "          \"Knives Out\", \"50/50\", \"Stand and Deliver\"]"
   ]
  },
  {
   "cell_type": "markdown",
   "id": "4f7befa9-b949-46cd-b196-697dcd4e24bc",
   "metadata": {},
   "source": [
    "##### 2."
   ]
  },
  {
   "cell_type": "code",
   "execution_count": 117,
   "id": "4cde8f15-7981-47bf-a550-fac922b166fc",
   "metadata": {},
   "outputs": [],
   "source": [
    "sliced_movies = movies[0:3]"
   ]
  },
  {
   "cell_type": "markdown",
   "id": "286f3d9b-5ebc-4b40-8d9f-e6634247e43a",
   "metadata": {},
   "source": [
    "#### 3."
   ]
  },
  {
   "cell_type": "code",
   "execution_count": 118,
   "id": "1c9d9e23-bce8-4561-a7fa-ba06dbd40590",
   "metadata": {},
   "outputs": [],
   "source": [
    "first_last = movies[0:2] + movies[4:6]"
   ]
  },
  {
   "cell_type": "markdown",
   "id": "eca6f2d1-e060-48c1-b2b8-a31b11e656a7",
   "metadata": {},
   "source": [
    "## 2. Loops"
   ]
  },
  {
   "cell_type": "markdown",
   "id": "07d3f094-95f6-417a-b4d8-c9722134000c",
   "metadata": {},
   "source": [
    "#### 1."
   ]
  },
  {
   "cell_type": "code",
   "execution_count": 119,
   "id": "99c9b720-207b-4e38-939a-3fc64a9ef4c0",
   "metadata": {},
   "outputs": [],
   "source": [
    "numbers = []\n",
    "for i in range(70,80):\n",
    "    numbers.append(i)"
   ]
  },
  {
   "cell_type": "markdown",
   "id": "dde789f1-6cc1-48a6-bf7d-f7b4c19eac78",
   "metadata": {},
   "source": [
    "#### 2."
   ]
  },
  {
   "cell_type": "code",
   "execution_count": 120,
   "id": "65e281f6-4fa7-4791-b813-3198e46ee8f4",
   "metadata": {},
   "outputs": [],
   "source": [
    "sumInt = 0\n",
    "for i in range(0,101):\n",
    "    sumInt += i"
   ]
  },
  {
   "cell_type": "markdown",
   "id": "c03b149b-6f43-453c-b925-7a2bcfea92f2",
   "metadata": {},
   "source": [
    "#### 3."
   ]
  },
  {
   "cell_type": "code",
   "execution_count": 121,
   "id": "f72ea632-865a-4e8a-962a-630ee1fbbe54",
   "metadata": {},
   "outputs": [
    {
     "data": {
      "text/plain": [
       "Adam:      33\n",
       "Ashin:     12\n",
       "Inukai:    45\n",
       "Tanaka:     2\n",
       "Ikki:      17\n",
       "dtype: int64"
      ]
     },
     "execution_count": 121,
     "metadata": {},
     "output_type": "execute_result"
    }
   ],
   "source": [
    "names = pd.Series([33, 12, 45, 2, 17], index = [\"Adam:\", \"Ashin:\", \"Inukai:\", \"Tanaka:\", \"Ikki:\"])\n",
    "names"
   ]
  },
  {
   "cell_type": "markdown",
   "id": "a828f374-489b-4c34-8f72-8609c2a82071",
   "metadata": {},
   "source": [
    "## 3. Comprehensions"
   ]
  },
  {
   "cell_type": "markdown",
   "id": "590ea515-de97-4134-aa34-f60b438bb9ac",
   "metadata": {},
   "source": [
    "#### 1."
   ]
  },
  {
   "cell_type": "code",
   "execution_count": 122,
   "id": "c819abd7-2d4a-43a8-bba0-3f88d5e50cfd",
   "metadata": {},
   "outputs": [
    {
     "name": "stdout",
     "output_type": "stream",
     "text": [
      "[1, 4, 9, 16, 25, 36, 49, 64, 81, 100]\n"
     ]
    }
   ],
   "source": [
    "def squares(first, last):\n",
    "    return [i**2 for i in range(first, last + 1)]\n",
    "print(squares(1, 10))"
   ]
  },
  {
   "cell_type": "markdown",
   "id": "2606620c-5b49-4ebb-aa7e-6b473915c847",
   "metadata": {},
   "source": [
    "#### 2."
   ]
  },
  {
   "cell_type": "code",
   "execution_count": 123,
   "id": "89bfdcbd-a9f6-485e-b575-582ba5de1e40",
   "metadata": {},
   "outputs": [
    {
     "data": {
      "text/plain": [
       "{1: 1, 2: 4, 3: 9, 4: 16, 5: 25, 6: 36, 7: 49, 8: 64, 9: 81, 10: 100}"
      ]
     },
     "execution_count": 123,
     "metadata": {},
     "output_type": "execute_result"
    }
   ],
   "source": [
    "second = {i: i**2 for i in range(1,11)} \n",
    "second"
   ]
  },
  {
   "cell_type": "markdown",
   "id": "ff083de5-4fcf-47cf-aee4-43e343932a13",
   "metadata": {},
   "source": [
    "## 4. Functions and Data Transformations"
   ]
  },
  {
   "cell_type": "markdown",
   "id": "7a80801d-aaa1-4c90-8fc3-755166ae2a9f",
   "metadata": {},
   "source": [
    "#### 1."
   ]
  },
  {
   "cell_type": "code",
   "execution_count": 124,
   "id": "091be277-b07d-4178-be04-392b5b01faa1",
   "metadata": {},
   "outputs": [
    {
     "name": "stdout",
     "output_type": "stream",
     "text": [
      "10.25\n",
      "3.75\n"
     ]
    }
   ],
   "source": [
    "time = 0\n",
    "def numeric(time):\n",
    "    minutes = time % 100\n",
    "    hours = time // 100\n",
    "    minutes = minutes/60\n",
    "    final = str(int(hours) + float(minutes))\n",
    "    return float(final)\n",
    "print(numeric(1015))\n",
    "print(numeric(345))"
   ]
  },
  {
   "cell_type": "markdown",
   "id": "59cfb03f-3910-46fa-b2aa-48d1e7bf5982",
   "metadata": {},
   "source": [
    "## 5. Load Data"
   ]
  },
  {
   "cell_type": "markdown",
   "id": "64c2f24a-1427-45ba-b8c9-9d5f41a7b080",
   "metadata": {},
   "source": [
    "#### 1."
   ]
  },
  {
   "cell_type": "code",
   "execution_count": 125,
   "id": "bb2264b4-a370-4908-91ec-bb24bf04be56",
   "metadata": {},
   "outputs": [],
   "source": [
    "gm = pd.read_csv(\"../Data/gapminder (1).csv.bz2\", sep = \"\\t\")"
   ]
  },
  {
   "cell_type": "markdown",
   "id": "d3eb00b8-e883-4525-ae64-e84767ff7fb4",
   "metadata": {},
   "source": [
    "#### 2. a."
   ]
  },
  {
   "cell_type": "code",
   "execution_count": 126,
   "id": "ae6ee209-7ad6-4c5c-9b59-3d41bafba92a",
   "metadata": {},
   "outputs": [
    {
     "name": "stdout",
     "output_type": "stream",
     "text": [
      "(13055, 25)\n",
      "There are 25 columns\n"
     ]
    }
   ],
   "source": [
    "print(gm.shape)\n",
    "print(\"There are 25 columns\")"
   ]
  },
  {
   "cell_type": "markdown",
   "id": "a783866f-3606-4c68-b847-b2096c703b1b",
   "metadata": {},
   "source": [
    "#### b."
   ]
  },
  {
   "cell_type": "code",
   "execution_count": 127,
   "id": "86eb125c-2444-484d-9de3-9ac51d15e941",
   "metadata": {},
   "outputs": [
    {
     "name": "stdout",
     "output_type": "stream",
     "text": [
      "(13055, 25)\n",
      "There are 13055 rows\n"
     ]
    }
   ],
   "source": [
    "print(gm.shape)\n",
    "print(\"There are 13055 rows\")"
   ]
  },
  {
   "cell_type": "markdown",
   "id": "443e938f-1458-4e65-9228-2437b255c85d",
   "metadata": {},
   "source": [
    "#### c."
   ]
  },
  {
   "cell_type": "code",
   "execution_count": 128,
   "id": "df02ebe6-9d12-45e7-a0c7-5e48b5cb5619",
   "metadata": {},
   "outputs": [
    {
     "data": {
      "text/html": [
       "<div>\n",
       "<style scoped>\n",
       "    .dataframe tbody tr th:only-of-type {\n",
       "        vertical-align: middle;\n",
       "    }\n",
       "\n",
       "    .dataframe tbody tr th {\n",
       "        vertical-align: top;\n",
       "    }\n",
       "\n",
       "    .dataframe thead th {\n",
       "        text-align: right;\n",
       "    }\n",
       "</style>\n",
       "<table border=\"1\" class=\"dataframe\">\n",
       "  <thead>\n",
       "    <tr style=\"text-align: right;\">\n",
       "      <th></th>\n",
       "      <th>iso3</th>\n",
       "      <th>name</th>\n",
       "      <th>iso2</th>\n",
       "      <th>region</th>\n",
       "      <th>sub-region</th>\n",
       "      <th>intermediate-region</th>\n",
       "      <th>time</th>\n",
       "      <th>totalPopulation</th>\n",
       "      <th>fertilityRate</th>\n",
       "      <th>lifeExpectancy</th>\n",
       "      <th>...</th>\n",
       "      <th>accessElectricity</th>\n",
       "      <th>agriculturalLand</th>\n",
       "      <th>agricultureTractors</th>\n",
       "      <th>cerealProduction</th>\n",
       "      <th>fertilizerHa</th>\n",
       "      <th>co2</th>\n",
       "      <th>greenhouseGases</th>\n",
       "      <th>co2_PC</th>\n",
       "      <th>pm2.5_35</th>\n",
       "      <th>battleDeaths</th>\n",
       "    </tr>\n",
       "  </thead>\n",
       "  <tbody>\n",
       "    <tr>\n",
       "      <th>0</th>\n",
       "      <td>ABW</td>\n",
       "      <td>Aruba</td>\n",
       "      <td>AW</td>\n",
       "      <td>Americas</td>\n",
       "      <td>Latin America and the Caribbean</td>\n",
       "      <td>Caribbean</td>\n",
       "      <td>1960.0</td>\n",
       "      <td>54211.0</td>\n",
       "      <td>4.820</td>\n",
       "      <td>65.662</td>\n",
       "      <td>...</td>\n",
       "      <td>NaN</td>\n",
       "      <td>NaN</td>\n",
       "      <td>NaN</td>\n",
       "      <td>NaN</td>\n",
       "      <td>NaN</td>\n",
       "      <td>11092.675</td>\n",
       "      <td>NaN</td>\n",
       "      <td>204.62037</td>\n",
       "      <td>NaN</td>\n",
       "      <td>NaN</td>\n",
       "    </tr>\n",
       "    <tr>\n",
       "      <th>1</th>\n",
       "      <td>ABW</td>\n",
       "      <td>Aruba</td>\n",
       "      <td>AW</td>\n",
       "      <td>Americas</td>\n",
       "      <td>Latin America and the Caribbean</td>\n",
       "      <td>Caribbean</td>\n",
       "      <td>1961.0</td>\n",
       "      <td>55438.0</td>\n",
       "      <td>4.655</td>\n",
       "      <td>66.074</td>\n",
       "      <td>...</td>\n",
       "      <td>NaN</td>\n",
       "      <td>20.0</td>\n",
       "      <td>NaN</td>\n",
       "      <td>NaN</td>\n",
       "      <td>NaN</td>\n",
       "      <td>11576.719</td>\n",
       "      <td>NaN</td>\n",
       "      <td>208.82281</td>\n",
       "      <td>NaN</td>\n",
       "      <td>NaN</td>\n",
       "    </tr>\n",
       "    <tr>\n",
       "      <th>2</th>\n",
       "      <td>ABW</td>\n",
       "      <td>Aruba</td>\n",
       "      <td>AW</td>\n",
       "      <td>Americas</td>\n",
       "      <td>Latin America and the Caribbean</td>\n",
       "      <td>Caribbean</td>\n",
       "      <td>1962.0</td>\n",
       "      <td>56225.0</td>\n",
       "      <td>4.471</td>\n",
       "      <td>66.444</td>\n",
       "      <td>...</td>\n",
       "      <td>NaN</td>\n",
       "      <td>20.0</td>\n",
       "      <td>NaN</td>\n",
       "      <td>NaN</td>\n",
       "      <td>NaN</td>\n",
       "      <td>12713.489</td>\n",
       "      <td>NaN</td>\n",
       "      <td>226.11808</td>\n",
       "      <td>NaN</td>\n",
       "      <td>NaN</td>\n",
       "    </tr>\n",
       "  </tbody>\n",
       "</table>\n",
       "<p>3 rows × 25 columns</p>\n",
       "</div>"
      ],
      "text/plain": [
       "  iso3   name iso2    region                       sub-region  \\\n",
       "0  ABW  Aruba   AW  Americas  Latin America and the Caribbean   \n",
       "1  ABW  Aruba   AW  Americas  Latin America and the Caribbean   \n",
       "2  ABW  Aruba   AW  Americas  Latin America and the Caribbean   \n",
       "\n",
       "  intermediate-region    time  totalPopulation  fertilityRate  lifeExpectancy  \\\n",
       "0           Caribbean  1960.0          54211.0          4.820          65.662   \n",
       "1           Caribbean  1961.0          55438.0          4.655          66.074   \n",
       "2           Caribbean  1962.0          56225.0          4.471          66.444   \n",
       "\n",
       "   ...  accessElectricity  agriculturalLand  agricultureTractors  \\\n",
       "0  ...                NaN               NaN                  NaN   \n",
       "1  ...                NaN              20.0                  NaN   \n",
       "2  ...                NaN              20.0                  NaN   \n",
       "\n",
       "   cerealProduction  fertilizerHa        co2  greenhouseGases     co2_PC  \\\n",
       "0               NaN           NaN  11092.675              NaN  204.62037   \n",
       "1               NaN           NaN  11576.719              NaN  208.82281   \n",
       "2               NaN           NaN  12713.489              NaN  226.11808   \n",
       "\n",
       "   pm2.5_35  battleDeaths  \n",
       "0       NaN           NaN  \n",
       "1       NaN           NaN  \n",
       "2       NaN           NaN  \n",
       "\n",
       "[3 rows x 25 columns]"
      ]
     },
     "execution_count": 128,
     "metadata": {},
     "output_type": "execute_result"
    }
   ],
   "source": [
    "gm.head(3)"
   ]
  },
  {
   "cell_type": "markdown",
   "id": "7a7f4476-dab7-4d78-9fe0-863612f6b6bb",
   "metadata": {},
   "source": [
    "Yes, this data does look reasonable."
   ]
  },
  {
   "cell_type": "markdown",
   "id": "0dd071d2-aaf3-414a-85d9-4d45cb7f4677",
   "metadata": {},
   "source": [
    "## 6."
   ]
  },
  {
   "cell_type": "markdown",
   "id": "abaa613c-7f1a-4724-aeb9-638a443904c7",
   "metadata": {},
   "source": [
    "#### 1."
   ]
  },
  {
   "cell_type": "code",
   "execution_count": 129,
   "id": "fb2f6f27-442c-4e96-b6cb-63ca05991d92",
   "metadata": {},
   "outputs": [
    {
     "name": "stdout",
     "output_type": "stream",
     "text": [
      "249\n"
     ]
    }
   ],
   "source": [
    "countries = gm.groupby(\"name\").sum()[\"time\"]   #This turns the df into a series which makes it easy to sum unique countries by using index.size\n",
    "print(countries.index.size)"
   ]
  },
  {
   "cell_type": "markdown",
   "id": "32d46de0-14ef-439b-842c-27077e6f5d17",
   "metadata": {},
   "source": [
    "#### 2."
   ]
  },
  {
   "cell_type": "code",
   "execution_count": 130,
   "id": "2dce3605-64b5-49a0-bbbf-d5a8f075093b",
   "metadata": {},
   "outputs": [
    {
     "name": "stdout",
     "output_type": "stream",
     "text": [
      "2019.0\n",
      "1960.0\n"
     ]
    }
   ],
   "source": [
    "year = gm[\"time\"]\n",
    "print(year.max())\n",
    "print(year.min())"
   ]
  },
  {
   "cell_type": "markdown",
   "id": "b5de1e02-8c45-4d8a-b9f5-db7043e9add3",
   "metadata": {},
   "source": [
    "Earliest year is 1960, latest or most recent year is 2019."
   ]
  },
  {
   "cell_type": "markdown",
   "id": "59bec7f4-1ef2-4cde-9ed9-fc8852ce8abf",
   "metadata": {},
   "source": [
    "#### 3."
   ]
  },
  {
   "cell_type": "code",
   "execution_count": 131,
   "id": "1f17c927-d6b0-40d4-a219-3377df5e3755",
   "metadata": {},
   "outputs": [
    {
     "data": {
      "text/plain": [
       "2019.0"
      ]
     },
     "execution_count": 131,
     "metadata": {},
     "output_type": "execute_result"
    }
   ],
   "source": [
    "gm2 = gm[~gm.GDP_PC.isna()] \n",
    "gm2.time.max()"
   ]
  },
  {
   "cell_type": "markdown",
   "id": "8c7888db-48bd-4e6b-9eed-68a4abbc7e9c",
   "metadata": {},
   "source": [
    "2019 means that the data we have about GDP from 2019 is the most recent data on GDP."
   ]
  },
  {
   "cell_type": "markdown",
   "id": "395ba60a-af72-440f-9b87-9ed798fb9bcb",
   "metadata": {},
   "source": [
    "#### 4."
   ]
  },
  {
   "cell_type": "code",
   "execution_count": 132,
   "id": "b3a3a708-6b95-45ad-b772-0f54360085f1",
   "metadata": {},
   "outputs": [
    {
     "name": "stdout",
     "output_type": "stream",
     "text": [
      "15055.352217243244\n"
     ]
    }
   ],
   "source": [
    "gm3 = gm2.groupby(\"time\").mean(\"GDP_PC\")\n",
    "wealth = gm3[\"GDP_PC\"]\n",
    "print(wealth.iloc[-1])"
   ]
  },
  {
   "cell_type": "markdown",
   "id": "26b50119-fe87-4ff7-a7f2-93aca59b62d3",
   "metadata": {},
   "source": [
    "The number printed here shows the average wealth on this planet in the year 2019"
   ]
  },
  {
   "cell_type": "markdown",
   "id": "aad63fe1-58c5-4672-9dbd-264425f31bb1",
   "metadata": {},
   "source": [
    "#### 5."
   ]
  },
  {
   "cell_type": "code",
   "execution_count": 133,
   "id": "1eecaa8e-787d-42d7-b3ab-6af5005437a4",
   "metadata": {},
   "outputs": [
    {
     "name": "stdout",
     "output_type": "stream",
     "text": [
      "name\n",
      "Djibouti                    2010.0\n",
      "Faroe Islands               2010.0\n",
      "Liechtenstein               2010.0\n",
      "Turks and Caicos Islands    2010.0\n",
      "Eritrea                     2011.0\n",
      "Name: time, dtype: float64\n"
     ]
    }
   ],
   "source": [
    "gm4 = gm2.groupby(\"name\").time.max()\n",
    "print(gm4.nsmallest(n=5))"
   ]
  },
  {
   "cell_type": "markdown",
   "id": "85dc2a3c-5495-4f53-b5ee-40beb0bf97c8",
   "metadata": {},
   "source": [
    "The countries printed here are the 5 with the most number of recent years missing. By setting gm4 to the latest year recorded for each country,\n",
    "I was then able to see what the smallest-latest year recorded was."
   ]
  },
  {
   "cell_type": "markdown",
   "id": "005bcd97-8902-4acd-b4f1-048e66e5085a",
   "metadata": {},
   "source": [
    "#### 6."
   ]
  },
  {
   "cell_type": "code",
   "execution_count": 134,
   "id": "55f9f460-15ac-4bfa-99f1-0d58d2678191",
   "metadata": {},
   "outputs": [
    {
     "name": "stdout",
     "output_type": "stream",
     "text": [
      "region\n",
      "Europe      33227.983767\n",
      "Americas    14516.826303\n",
      "Asia        14116.124163\n",
      "Oceania     11817.735554\n",
      "Africa       2765.708956\n",
      "Name: GDP_PC, dtype: float64\n"
     ]
    }
   ],
   "source": [
    "gm5 = gm2[gm2[\"time\"] == 2019.0] #subsets data to only 2019 values\n",
    "gm6 = gm5.groupby(\"region\").mean()[\"GDP_PC\"] #finds the mean GDP per capita in each continent\n",
    "print((gm6).sort_values(ascending=False)) #shows the data in descending order"
   ]
  },
  {
   "cell_type": "markdown",
   "id": "09c8f384-de79-4d95-bef1-698386e19511",
   "metadata": {},
   "source": [
    "After subsetting to only the year 2019, I found the average GDP per capita across each continent by using the mean function, which is what\n",
    "the numbers printed out tell us, in a decreasing order."
   ]
  },
  {
   "cell_type": "markdown",
   "id": "02c07894-baa8-4beb-b488-16eaa4f5d58f",
   "metadata": {},
   "source": [
    "#### 7."
   ]
  },
  {
   "cell_type": "code",
   "execution_count": 135,
   "id": "3c43a49d-e30e-4235-bc07-d868b6edf328",
   "metadata": {},
   "outputs": [
    {
     "name": "stdout",
     "output_type": "stream",
     "text": [
      "region                  Europe\n",
      "name                Luxembourg\n",
      "totalPopulation       620001.0\n",
      "GDP_PC             111043.5317\n",
      "Name: 7039, dtype: object\n",
      "region                 Africa\n",
      "name                  Burundi\n",
      "totalPopulation    11530580.0\n",
      "GDP_PC              208.07473\n",
      "Name: 843, dtype: object\n"
     ]
    }
   ],
   "source": [
    "gm7 = gm2[gm2[\"time\"] == 2019.0]\n",
    "gm7 = gm7[[\"region\", \"name\", \"totalPopulation\", \"GDP_PC\"]] #subsets to only region, name, and totalPopulation columns\n",
    "gdp = gm7[\"GDP_PC\"]\n",
    "max_index = gdp.idxmax() #finds the index of the max life expectancy\n",
    "min_index = gdp.idxmin() #finds the index of the min life expectancy\n",
    "g1 = gm7.loc[max_index] \n",
    "g2 = gm7.loc[min_index]\n",
    "print(g1)\n",
    "print(g2)"
   ]
  },
  {
   "cell_type": "markdown",
   "id": "06628787-6237-43d6-9f96-2333ba6505f0",
   "metadata": {},
   "source": [
    "By subsetting the data frame for only 2019 values, and finding the index of the smallest and largest GDP_PC values, I was then\n",
    "able to traverse the data to find what country corresponds with said indicies, and print out data like population, GDP, and of course the \n",
    "names of the country/continent."
   ]
  },
  {
   "cell_type": "markdown",
   "id": "84b9598a-22cd-4917-891f-65b579622bda",
   "metadata": {},
   "source": [
    "#### 8."
   ]
  },
  {
   "cell_type": "code",
   "execution_count": 136,
   "id": "81722d88-7696-4d12-a02f-ae5a49b470be",
   "metadata": {},
   "outputs": [
    {
     "data": {
      "text/html": [
       "<div>\n",
       "<style scoped>\n",
       "    .dataframe tbody tr th:only-of-type {\n",
       "        vertical-align: middle;\n",
       "    }\n",
       "\n",
       "    .dataframe tbody tr th {\n",
       "        vertical-align: top;\n",
       "    }\n",
       "\n",
       "    .dataframe thead th {\n",
       "        text-align: right;\n",
       "    }\n",
       "</style>\n",
       "<table border=\"1\" class=\"dataframe\">\n",
       "  <thead>\n",
       "    <tr style=\"text-align: right;\">\n",
       "      <th></th>\n",
       "      <th>name</th>\n",
       "      <th>totalPopulation</th>\n",
       "      <th>GDP_PC</th>\n",
       "      <th>13054</th>\n",
       "      <th>13054</th>\n",
       "    </tr>\n",
       "  </thead>\n",
       "  <tbody>\n",
       "    <tr>\n",
       "      <th>Africa</th>\n",
       "      <td>Zimbabwe</td>\n",
       "      <td>2.009636e+08</td>\n",
       "      <td>15048.74693</td>\n",
       "      <td>NaN</td>\n",
       "      <td>NaN</td>\n",
       "    </tr>\n",
       "    <tr>\n",
       "      <th>Americas</th>\n",
       "      <td>Uruguay</td>\n",
       "      <td>3.282395e+08</td>\n",
       "      <td>94106.36125</td>\n",
       "      <td>NaN</td>\n",
       "      <td>NaN</td>\n",
       "    </tr>\n",
       "    <tr>\n",
       "      <th>Asia</th>\n",
       "      <td>Yemen</td>\n",
       "      <td>1.397715e+09</td>\n",
       "      <td>63281.67468</td>\n",
       "      <td>NaN</td>\n",
       "      <td>NaN</td>\n",
       "    </tr>\n",
       "    <tr>\n",
       "      <th>Europe</th>\n",
       "      <td>United Kingdom of Great Britain and Northern I...</td>\n",
       "      <td>1.444063e+08</td>\n",
       "      <td>111043.53170</td>\n",
       "      <td>NaN</td>\n",
       "      <td>NaN</td>\n",
       "    </tr>\n",
       "    <tr>\n",
       "      <th>Oceania</th>\n",
       "      <td>Vanuatu</td>\n",
       "      <td>2.536574e+07</td>\n",
       "      <td>57183.37935</td>\n",
       "      <td>NaN</td>\n",
       "      <td>NaN</td>\n",
       "    </tr>\n",
       "    <tr>\n",
       "      <th>region</th>\n",
       "      <td>NaN</td>\n",
       "      <td>NaN</td>\n",
       "      <td>NaN</td>\n",
       "      <td>Africa</td>\n",
       "      <td>Africa</td>\n",
       "    </tr>\n",
       "    <tr>\n",
       "      <th>name</th>\n",
       "      <td>NaN</td>\n",
       "      <td>NaN</td>\n",
       "      <td>NaN</td>\n",
       "      <td>Zimbabwe</td>\n",
       "      <td>Zimbabwe</td>\n",
       "    </tr>\n",
       "    <tr>\n",
       "      <th>totalPopulation</th>\n",
       "      <td>NaN</td>\n",
       "      <td>NaN</td>\n",
       "      <td>NaN</td>\n",
       "      <td>14645468.0</td>\n",
       "      <td>14645468.0</td>\n",
       "    </tr>\n",
       "    <tr>\n",
       "      <th>GDP_PC</th>\n",
       "      <td>NaN</td>\n",
       "      <td>NaN</td>\n",
       "      <td>NaN</td>\n",
       "      <td>1183.09882</td>\n",
       "      <td>1183.09882</td>\n",
       "    </tr>\n",
       "  </tbody>\n",
       "</table>\n",
       "</div>"
      ],
      "text/plain": [
       "                                                              name  \\\n",
       "Africa                                                    Zimbabwe   \n",
       "Americas                                                   Uruguay   \n",
       "Asia                                                         Yemen   \n",
       "Europe           United Kingdom of Great Britain and Northern I...   \n",
       "Oceania                                                    Vanuatu   \n",
       "region                                                         NaN   \n",
       "name                                                           NaN   \n",
       "totalPopulation                                                NaN   \n",
       "GDP_PC                                                         NaN   \n",
       "\n",
       "                 totalPopulation        GDP_PC       13054       13054  \n",
       "Africa              2.009636e+08   15048.74693         NaN         NaN  \n",
       "Americas            3.282395e+08   94106.36125         NaN         NaN  \n",
       "Asia                1.397715e+09   63281.67468         NaN         NaN  \n",
       "Europe              1.444063e+08  111043.53170         NaN         NaN  \n",
       "Oceania             2.536574e+07   57183.37935         NaN         NaN  \n",
       "region                       NaN           NaN      Africa      Africa  \n",
       "name                         NaN           NaN    Zimbabwe    Zimbabwe  \n",
       "totalPopulation              NaN           NaN  14645468.0  14645468.0  \n",
       "GDP_PC                       NaN           NaN  1183.09882  1183.09882  "
      ]
     },
     "execution_count": 136,
     "metadata": {},
     "output_type": "execute_result"
    }
   ],
   "source": [
    "gm7 = gm2[gm2[\"time\"] == 2019.0]\n",
    "gm7 = gm7[[\"region\", \"name\", \"totalPopulation\", \"GDP_PC\"]]  #subsets to only region, name, and totalPopulation columns\n",
    "gm9 = gm7.groupby(\"region\").max()\n",
    "gdp = gm7[\"GDP_PC\"]\n",
    "for i in range(len(gm7[\"region\"])): \n",
    "    max_index = gdp.idxmax() #finds the index of the max life expectancy\n",
    "    min_index = gdp.idxmin() #finds the index of the minimum life expectancy\n",
    "    g1 = gm7.iloc[i]\n",
    "    g2 = gm7.iloc[i]\n",
    "pd.concat((gm9, g1, g2), axis = 1) #combines data"
   ]
  },
  {
   "cell_type": "markdown",
   "id": "e4b41b51-8499-4869-9e29-d4fb2a51d0cb",
   "metadata": {},
   "source": [
    "This table should show the richest and poorest countries in each continent. I was not able to get it to show correctly though, my problem was with trying to show the data for each continent, neither my groupby nor my for loop attempts worked :(."
   ]
  },
  {
   "cell_type": "markdown",
   "id": "bdf5f5d8-256d-48b7-8216-96142e1f33d2",
   "metadata": {},
   "source": [
    "#### 9."
   ]
  },
  {
   "cell_type": "markdown",
   "id": "17677921-fa2f-479f-85c2-703f8b738130",
   "metadata": {},
   "source": [
    "Although I don't have the table working correctly, I did some research and got outside data from: https://worldpopulationreview.com/country-rankings/richest-countries-in-north-america\n",
    "\n",
    "Most of the placings for each country makes sense to me, however like mentioned, Bermuda being the richest country in the Americas surprised me. This is because a lot of people (like myself) don't even consider Bermuda when thinking about GDP per capita. Bermuda's high GDP number pobably come from all the tourism and of course, how small it is. I think that it makes sense for most of rich countries to have a small population when looking at GDP per capita because if you sum up all of the money and divide it by a smaller population rather than a large one, you get a bigger number in return."
   ]
  },
  {
   "cell_type": "markdown",
   "id": "5fbfc244-6532-4466-8720-9fd08f344cc8",
   "metadata": {},
   "source": [
    "## 7."
   ]
  },
  {
   "cell_type": "markdown",
   "id": "3e3169ae-d176-4274-9d36-43849e35b5ff",
   "metadata": {},
   "source": [
    "#### 1."
   ]
  },
  {
   "cell_type": "code",
   "execution_count": 137,
   "id": "ab16a1d4-5c1e-412c-8800-fdbe3d892498",
   "metadata": {},
   "outputs": [
    {
     "name": "stdout",
     "output_type": "stream",
     "text": [
      "lifeExpectancy    27\n",
      "name               4\n",
      "dtype: int64\n",
      "lifeExpectancy    19\n",
      "name               4\n",
      "dtype: int64\n"
     ]
    }
   ],
   "source": [
    "hm = gm[gm[\"time\"] == 1960.0] #sets data to look only at 1960\n",
    "hm = hm[[\"lifeExpectancy\", \"name\"]]  #subsets to only name, and lifeExcpectancy columns\n",
    "hm.groupby(\"name\").mean()[\"lifeExpectancy\"]\n",
    "print(hm.isna().sum()) #finds the number of NA's in life expectancy in the data\n",
    "hm2 = gm[gm[\"time\"] == 2019.0] #sets data to look only at 2019\n",
    "hm2 = hm2[[\"lifeExpectancy\", \"name\"]]\n",
    "hm2.groupby(\"name\").mean()[\"lifeExpectancy\"]\n",
    "print(hm2.isna().sum()) #finds the number of NA's in life expectancy in the data"
   ]
  },
  {
   "cell_type": "markdown",
   "id": "c8f5474e-c2be-4af1-b442-455ebc2aabc5",
   "metadata": {},
   "source": [
    "It appears that in 1960 there were 27 cases where life expectancy wasn't reported, and in 2019 there were 19 cases where life expectancy wasn't reported."
   ]
  },
  {
   "cell_type": "markdown",
   "id": "c9c6130d-5c71-4f23-8b10-efa5729b888b",
   "metadata": {},
   "source": [
    "#### 2."
   ]
  },
  {
   "cell_type": "code",
   "execution_count": 138,
   "id": "7f687173-1e3b-499c-af3c-8a10a76ed059",
   "metadata": {},
   "outputs": [
    {
     "name": "stdout",
     "output_type": "stream",
     "text": [
      "time                  2012.0\n",
      "name              San Marino\n",
      "lifeExpectancy      85.41707\n",
      "Name: 10581, dtype: object\n",
      "time                1977.0\n",
      "name              Cambodia\n",
      "lifeExpectancy      18.907\n",
      "Name: 6097, dtype: object\n"
     ]
    }
   ],
   "source": [
    "hm3 = gm[[\"time\", \"name\", \"lifeExpectancy\"]]  #subsets to only time, name, and lifeExcpectancy columns\n",
    "le = hm3[\"lifeExpectancy\"]\n",
    "max_index = le.idxmax() #finds the index of the max life expectancy\n",
    "min_index = le.idxmin() #finds the index of the min life expectancy\n",
    "print(hm3.loc[max_index])\n",
    "print(hm3.loc[min_index])"
   ]
  },
  {
   "cell_type": "markdown",
   "id": "67ccd2a0-9571-41b5-90d9-73f1fd358ac2",
   "metadata": {},
   "source": [
    "The values printed here show the country, year, and number for the highest/lowest life expectancies. "
   ]
  },
  {
   "cell_type": "markdown",
   "id": "f9f93b41-d17f-49d3-87aa-fdf08a49b049",
   "metadata": {},
   "source": [
    "#### 3."
   ]
  },
  {
   "cell_type": "markdown",
   "id": "cfd38098-f808-49f1-893e-ebbb06eafbd1",
   "metadata": {},
   "source": [
    "The number 18.907 corresponds to the Cambodian genocide, which happened throughout the 1970's.\n",
    "\n"
   ]
  },
  {
   "cell_type": "markdown",
   "id": "83385ff5-8190-4cb0-896f-25c4112442ca",
   "metadata": {},
   "source": [
    "Reference: https://cla.umn.edu/chgs/holocaust-genocide-education/resource-guides/cambodia#:~:text=Lasting%20for%20four%20years%20(between,following%20the%20Cambodian%20Civil%20War."
   ]
  },
  {
   "cell_type": "markdown",
   "id": "7073be6f-36a8-407d-8c15-b36ca1087ddf",
   "metadata": {},
   "source": [
    "#### 4."
   ]
  },
  {
   "cell_type": "code",
   "execution_count": 139,
   "id": "2811af42-6f73-40cf-a11f-ccfb2b5358d4",
   "metadata": {},
   "outputs": [
    {
     "name": "stdout",
     "output_type": "stream",
     "text": [
      "                                                       name  lifeExpectancy\n",
      "region                                                                     \n",
      "Africa                                             Zimbabwe        76.88000\n",
      "Americas                                            Uruguay        82.04878\n",
      "Asia                                                  Yemen        85.07805\n",
      "Europe    United Kingdom of Great Britain and Northern I...        83.70488\n",
      "Oceania                                             Vanuatu        82.90000\n",
      "                         name  lifeExpectancy\n",
      "region                                       \n",
      "Africa                Algeria        53.28300\n",
      "Americas  Antigua and Barbuda        64.00100\n",
      "Asia              Afghanistan        64.83300\n",
      "Europe                Albania        71.82732\n",
      "Oceania             Australia        64.50100\n"
     ]
    }
   ],
   "source": [
    "hd7 = gm2[gm2[\"time\"] == 2019.0]\n",
    "hd7 = hd7[[\"region\", \"name\", \"lifeExpectancy\"]] #subsets to only region, name, and lifeExcpectancy columns\n",
    "hd8 = hd7.groupby(\"region\").max() #shows the max life expectancy of each region\n",
    "print(hd8)\n",
    "hd9 = hd7.groupby(\"region\").min() #shows the min life expectancy of each region\n",
    "print(hd9)"
   ]
  },
  {
   "cell_type": "markdown",
   "id": "68d81575-210c-4d2a-b21e-6d0e03a114f7",
   "metadata": {},
   "source": [
    "This code prints out the countries with the shortest and longest life expectancies for each continent."
   ]
  },
  {
   "cell_type": "markdown",
   "id": "be9effd0-5dfd-4012-b913-421d1aa7473c",
   "metadata": {},
   "source": [
    "#### 5."
   ]
  },
  {
   "cell_type": "code",
   "execution_count": 140,
   "id": "5f9297c2-96dc-4901-8faa-5777f918b47d",
   "metadata": {},
   "outputs": [
    {
     "name": "stdout",
     "output_type": "stream",
     "text": [
      "time              1960.0\n",
      "name               Aruba\n",
      "lifeExpectancy    65.662\n",
      "Name: 0, dtype: object\n"
     ]
    }
   ],
   "source": [
    "hm7 = gm[[\"time\", \"name\", \"lifeExpectancy\"]] #subsets to only time, name, and lifeExcpectancy columns\n",
    "le = hm3[\"time\"]\n",
    "min_index = le.idxmin() #finds the index of the minimum life expectancy\n",
    "print(hm3.loc[min_index])"
   ]
  },
  {
   "cell_type": "markdown",
   "id": "44fa42df-5a33-4503-947e-3242cd176c09",
   "metadata": {},
   "source": [
    "This table is meant to show the first valid Le and its corresponding year. Once again, I was unable to print the values for more than 1 country(aruba). Tried to use groupby and a for loop to print out the values for each country instead of just one, however I was unsuccessful in my attempt. "
   ]
  },
  {
   "cell_type": "markdown",
   "id": "ab6f5064-74a4-491e-8d01-e3e4270b0485",
   "metadata": {},
   "source": [
    "#### 6."
   ]
  },
  {
   "cell_type": "code",
   "execution_count": 141,
   "id": "9d893c24-a16a-4678-be2e-872ba901cb36",
   "metadata": {},
   "outputs": [
    {
     "name": "stdout",
     "output_type": "stream",
     "text": [
      "time                  2012.0\n",
      "name              San Marino\n",
      "lifeExpectancy      85.41707\n",
      "Name: 10581, dtype: object\n"
     ]
    }
   ],
   "source": [
    "hm9 = gm[[\"time\", \"name\", \"lifeExpectancy\"]] #subsets to only time, name, and lifeExcpectancy columns\n",
    "le = hm3[\"lifeExpectancy\"]\n",
    "max_index = le.idxmax() #finds the index of the max life expectancy\n",
    "print(hm3.loc[max_index])"
   ]
  },
  {
   "cell_type": "markdown",
   "id": "cd8464e2-8857-4ce2-bd84-eaf41266fe77",
   "metadata": {},
   "source": [
    "This table is meant to show the most recent valid Le and its corresponding year. Once again, I was unable to print the values for more than 1 country(aruba). Tried to use groupby and a for loop to print out the values for each country instead of just one, however I was unsuccessful in my attempt. "
   ]
  },
  {
   "cell_type": "markdown",
   "id": "b77401f4-d911-473a-98f3-eb066cfcbddb",
   "metadata": {},
   "source": [
    "#### 7."
   ]
  },
  {
   "cell_type": "code",
   "execution_count": 142,
   "id": "f0148416-8bef-432b-aee8-0dd14851cd37",
   "metadata": {},
   "outputs": [
    {
     "ename": "KeyError",
     "evalue": "\"['time'] not in index\"",
     "output_type": "error",
     "traceback": [
      "\u001b[0;31m---------------------------------------------------------------------------\u001b[0m",
      "\u001b[0;31mKeyError\u001b[0m                                  Traceback (most recent call last)",
      "\u001b[0;32m/tmp/ipykernel_49/2243102742.py\u001b[0m in \u001b[0;36m<module>\u001b[0;34m\u001b[0m\n\u001b[0;32m----> 1\u001b[0;31m \u001b[0mbruh1\u001b[0m \u001b[0;34m=\u001b[0m \u001b[0mhd9\u001b[0m\u001b[0;34m[\u001b[0m\u001b[0;34m[\u001b[0m\u001b[0;34m\"name\"\u001b[0m\u001b[0;34m,\u001b[0m \u001b[0;34m\"time\"\u001b[0m\u001b[0;34m,\u001b[0m \u001b[0;34m\"lifeExpectancy\"\u001b[0m\u001b[0;34m]\u001b[0m\u001b[0;34m]\u001b[0m\u001b[0;34m.\u001b[0m\u001b[0mset_index\u001b[0m\u001b[0;34m(\u001b[0m\u001b[0;34m\"name\"\u001b[0m\u001b[0;34m)\u001b[0m \u001b[0;31m#subsets data frame for shortest life expectancies\u001b[0m\u001b[0;34m\u001b[0m\u001b[0;34m\u001b[0m\u001b[0m\n\u001b[0m\u001b[1;32m      2\u001b[0m \u001b[0mbruh2\u001b[0m \u001b[0;34m=\u001b[0m \u001b[0mhd8\u001b[0m\u001b[0;34m[\u001b[0m\u001b[0;34m[\u001b[0m\u001b[0;34m\"name\"\u001b[0m\u001b[0;34m,\u001b[0m \u001b[0;34m\"time\"\u001b[0m\u001b[0;34m,\u001b[0m \u001b[0;34m\"lifeExpectancy\"\u001b[0m\u001b[0;34m]\u001b[0m\u001b[0;34m]\u001b[0m\u001b[0;34m.\u001b[0m\u001b[0mset_index\u001b[0m\u001b[0;34m(\u001b[0m\u001b[0;34m\"name\"\u001b[0m\u001b[0;34m)\u001b[0m \u001b[0;31m# ' ' but opposite\u001b[0m\u001b[0;34m\u001b[0m\u001b[0;34m\u001b[0m\u001b[0m\n\u001b[1;32m      3\u001b[0m \u001b[0mLE1\u001b[0m \u001b[0;34m=\u001b[0m \u001b[0mbruh1\u001b[0m\u001b[0;34m.\u001b[0m\u001b[0mlifeExpectancy\u001b[0m \u001b[0;31m#first valid LE\u001b[0m\u001b[0;34m\u001b[0m\u001b[0;34m\u001b[0m\u001b[0m\n\u001b[1;32m      4\u001b[0m \u001b[0mLE2\u001b[0m \u001b[0;34m=\u001b[0m \u001b[0mbruh2\u001b[0m\u001b[0;34m.\u001b[0m\u001b[0mlifeExpectancy\u001b[0m \u001b[0;31m# ' '\u001b[0m\u001b[0;34m\u001b[0m\u001b[0;34m\u001b[0m\u001b[0m\n\u001b[1;32m      5\u001b[0m \u001b[0mtime1\u001b[0m \u001b[0;34m=\u001b[0m \u001b[0mbruh1\u001b[0m\u001b[0;34m.\u001b[0m\u001b[0mtime\u001b[0m \u001b[0;31m#year of first valid LE\u001b[0m\u001b[0;34m\u001b[0m\u001b[0;34m\u001b[0m\u001b[0m\n",
      "\u001b[0;32m/opt/conda/lib/python3.9/site-packages/pandas/core/frame.py\u001b[0m in \u001b[0;36m__getitem__\u001b[0;34m(self, key)\u001b[0m\n\u001b[1;32m   3462\u001b[0m             \u001b[0;32mif\u001b[0m \u001b[0mis_iterator\u001b[0m\u001b[0;34m(\u001b[0m\u001b[0mkey\u001b[0m\u001b[0;34m)\u001b[0m\u001b[0;34m:\u001b[0m\u001b[0;34m\u001b[0m\u001b[0;34m\u001b[0m\u001b[0m\n\u001b[1;32m   3463\u001b[0m                 \u001b[0mkey\u001b[0m \u001b[0;34m=\u001b[0m \u001b[0mlist\u001b[0m\u001b[0;34m(\u001b[0m\u001b[0mkey\u001b[0m\u001b[0;34m)\u001b[0m\u001b[0;34m\u001b[0m\u001b[0;34m\u001b[0m\u001b[0m\n\u001b[0;32m-> 3464\u001b[0;31m             \u001b[0mindexer\u001b[0m \u001b[0;34m=\u001b[0m \u001b[0mself\u001b[0m\u001b[0;34m.\u001b[0m\u001b[0mloc\u001b[0m\u001b[0;34m.\u001b[0m\u001b[0m_get_listlike_indexer\u001b[0m\u001b[0;34m(\u001b[0m\u001b[0mkey\u001b[0m\u001b[0;34m,\u001b[0m \u001b[0maxis\u001b[0m\u001b[0;34m=\u001b[0m\u001b[0;36m1\u001b[0m\u001b[0;34m)\u001b[0m\u001b[0;34m[\u001b[0m\u001b[0;36m1\u001b[0m\u001b[0;34m]\u001b[0m\u001b[0;34m\u001b[0m\u001b[0;34m\u001b[0m\u001b[0m\n\u001b[0m\u001b[1;32m   3465\u001b[0m \u001b[0;34m\u001b[0m\u001b[0m\n\u001b[1;32m   3466\u001b[0m         \u001b[0;31m# take() does not accept boolean indexers\u001b[0m\u001b[0;34m\u001b[0m\u001b[0;34m\u001b[0m\u001b[0m\n",
      "\u001b[0;32m/opt/conda/lib/python3.9/site-packages/pandas/core/indexing.py\u001b[0m in \u001b[0;36m_get_listlike_indexer\u001b[0;34m(self, key, axis)\u001b[0m\n\u001b[1;32m   1312\u001b[0m             \u001b[0mkeyarr\u001b[0m\u001b[0;34m,\u001b[0m \u001b[0mindexer\u001b[0m\u001b[0;34m,\u001b[0m \u001b[0mnew_indexer\u001b[0m \u001b[0;34m=\u001b[0m \u001b[0max\u001b[0m\u001b[0;34m.\u001b[0m\u001b[0m_reindex_non_unique\u001b[0m\u001b[0;34m(\u001b[0m\u001b[0mkeyarr\u001b[0m\u001b[0;34m)\u001b[0m\u001b[0;34m\u001b[0m\u001b[0;34m\u001b[0m\u001b[0m\n\u001b[1;32m   1313\u001b[0m \u001b[0;34m\u001b[0m\u001b[0m\n\u001b[0;32m-> 1314\u001b[0;31m         \u001b[0mself\u001b[0m\u001b[0;34m.\u001b[0m\u001b[0m_validate_read_indexer\u001b[0m\u001b[0;34m(\u001b[0m\u001b[0mkeyarr\u001b[0m\u001b[0;34m,\u001b[0m \u001b[0mindexer\u001b[0m\u001b[0;34m,\u001b[0m \u001b[0maxis\u001b[0m\u001b[0;34m)\u001b[0m\u001b[0;34m\u001b[0m\u001b[0;34m\u001b[0m\u001b[0m\n\u001b[0m\u001b[1;32m   1315\u001b[0m \u001b[0;34m\u001b[0m\u001b[0m\n\u001b[1;32m   1316\u001b[0m         if needs_i8_conversion(ax.dtype) or isinstance(\n",
      "\u001b[0;32m/opt/conda/lib/python3.9/site-packages/pandas/core/indexing.py\u001b[0m in \u001b[0;36m_validate_read_indexer\u001b[0;34m(self, key, indexer, axis)\u001b[0m\n\u001b[1;32m   1375\u001b[0m \u001b[0;34m\u001b[0m\u001b[0m\n\u001b[1;32m   1376\u001b[0m             \u001b[0mnot_found\u001b[0m \u001b[0;34m=\u001b[0m \u001b[0mlist\u001b[0m\u001b[0;34m(\u001b[0m\u001b[0mensure_index\u001b[0m\u001b[0;34m(\u001b[0m\u001b[0mkey\u001b[0m\u001b[0;34m)\u001b[0m\u001b[0;34m[\u001b[0m\u001b[0mmissing_mask\u001b[0m\u001b[0;34m.\u001b[0m\u001b[0mnonzero\u001b[0m\u001b[0;34m(\u001b[0m\u001b[0;34m)\u001b[0m\u001b[0;34m[\u001b[0m\u001b[0;36m0\u001b[0m\u001b[0;34m]\u001b[0m\u001b[0;34m]\u001b[0m\u001b[0;34m.\u001b[0m\u001b[0munique\u001b[0m\u001b[0;34m(\u001b[0m\u001b[0;34m)\u001b[0m\u001b[0;34m)\u001b[0m\u001b[0;34m\u001b[0m\u001b[0;34m\u001b[0m\u001b[0m\n\u001b[0;32m-> 1377\u001b[0;31m             \u001b[0;32mraise\u001b[0m \u001b[0mKeyError\u001b[0m\u001b[0;34m(\u001b[0m\u001b[0;34mf\"{not_found} not in index\"\u001b[0m\u001b[0;34m)\u001b[0m\u001b[0;34m\u001b[0m\u001b[0;34m\u001b[0m\u001b[0m\n\u001b[0m\u001b[1;32m   1378\u001b[0m \u001b[0;34m\u001b[0m\u001b[0m\n\u001b[1;32m   1379\u001b[0m \u001b[0;34m\u001b[0m\u001b[0m\n",
      "\u001b[0;31mKeyError\u001b[0m: \"['time'] not in index\""
     ]
    }
   ],
   "source": [
    "bruh1 = hd9[[\"name\", \"time\", \"lifeExpectancy\"]].set_index(\"name\") #subsets data frame for shortest life expectancies \n",
    "bruh2 = hd8[[\"name\", \"time\", \"lifeExpectancy\"]].set_index(\"name\") # ' ' but opposite\n",
    "LE1 = bruh1.lifeExpectancy #first valid LE\n",
    "LE2 = bruh2.lifeExpectancy # ' '\n",
    "time1 = bruh1.time #year of first valid LE\n",
    "time2 = bruh2.time # ' '\n",
    "n = bruh2 - bruh1 #this and below are calculations for the GR formula\n",
    "gr = 100 * ((LE2 / LE1)**(1 / n) - 1)\n",
    "gr1 = pd.concat([time2, LE2, time1, LE1, gr], axis = 1).rename({0: \"growthRate\"}, axis = 1)\n",
    "fast = gr1.sort_values(\"growthRate\", ascending = False).head(10) #combining data into dataframe \n",
    "slow = gr1.sort_values(\"growthRate\", ascending = False).head(10)\n",
    "print(fast)\n",
    "print(slow)"
   ]
  },
  {
   "cell_type": "markdown",
   "id": "2e2d76a5-13d2-4d65-a2d3-17bd47f61b18",
   "metadata": {},
   "source": [
    "This table was meant to show the 10 fastest and 10 slowest growing countries in the world based off the growth rate equation. However, since I was unable to solve the previous problems, I had trouble solving this one, and was unable to get it. I got help for making the data table off of teams, but I was still not able to completely figure it out. "
   ]
  },
  {
   "cell_type": "markdown",
   "id": "d4cfbe90-0b10-4262-9e9b-257ab6ff3b5f",
   "metadata": {},
   "source": [
    "#### 8."
   ]
  },
  {
   "cell_type": "markdown",
   "id": "f1c2f0ba-8f37-4e6d-b9c2-022265c36e27",
   "metadata": {},
   "source": [
    "Although I don't have the data frame output, after using data from https://www.statista.com/statistics/264687/countries-with-the-highest-population-growth-rate/ I was able to find a common theme among the fastest growing countries. The growth rate may not be the same, but I think it would share a common theme of the fastest growing countries being relatively poor. Although studies show that increased life expectancies lead to higher population growth, so I am a little confused here, becuase a lot of the poor countries shown don't have very high life expectancies. Undoubtedly though, life expectancies have increased all around the world since their first record. "
   ]
  },
  {
   "cell_type": "markdown",
   "id": "de9bf63a-0730-46a5-a436-a212ebe729e6",
   "metadata": {},
   "source": [
    "I spent about 10 hours working on this assignment, should've done it more efficiently and gone to office hours, but I was busy and had to end up using a late day."
   ]
  },
  {
   "cell_type": "code",
   "execution_count": null,
   "id": "52e11ba3-0969-42fb-9be1-a11dbdda7fd2",
   "metadata": {},
   "outputs": [],
   "source": []
  }
 ],
 "metadata": {
  "kernelspec": {
   "display_name": "Python 3 (ipykernel)",
   "language": "python",
   "name": "python3"
  },
  "language_info": {
   "codemirror_mode": {
    "name": "ipython",
    "version": 3
   },
   "file_extension": ".py",
   "mimetype": "text/x-python",
   "name": "python",
   "nbconvert_exporter": "python",
   "pygments_lexer": "ipython3",
   "version": "3.9.7"
  }
 },
 "nbformat": 4,
 "nbformat_minor": 5
}
